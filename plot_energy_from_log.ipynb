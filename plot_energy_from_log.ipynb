{
 "cells": [
  {
   "cell_type": "code",
   "execution_count": null,
   "metadata": {},
   "outputs": [],
   "source": [
    "import csv\n",
    "\n",
    "log_data = []; \n",
    "\n",
    "with open(\"data/log.csv\") as csvfile:\n",
    "    spamreader = csv.reader(csvfile, delimiter=',')\n",
    "    for row in spamreader:\n",
    "        log_data.append(row)"
   ]
  },
  {
   "cell_type": "code",
   "execution_count": null,
   "metadata": {},
   "outputs": [],
   "source": [
    "import numpy as np\n",
    "log_data = np.array(log_data, dtype=np.float32)\n",
    "log_data[:, 4] -= log_data[0, 4]\n",
    "log_data[:, 3] -= log_data[0, 3]\n",
    "log_data[:, 2] -= log_data[0, 2]\n",
    "log_data[:, 1] -= log_data[0, 1]\n",
    "log_data[:, 0] -= log_data[0, 0]\n",
    "\n",
    "import pandas\n",
    "pandas.DataFrame(log_data)"
   ]
  },
  {
   "cell_type": "code",
   "execution_count": null,
   "metadata": {},
   "outputs": [],
   "source": [
    "import matplotlib.pyplot as plt\n",
    "plt.rcParams['figure.figsize'] = [16, 10]\n",
    "plt.rcParams['font.size'] = '16'\n",
    "\n",
    "data = log_data[0:120]\n",
    "\n",
    "fig = plt.figure()\n",
    "ax = fig.add_subplot(111)\n",
    "ax.plot(data[:, 0], data[:, 3], color='magenta', linewidth=4, label=\"Energia potencjalna grawitacji\")\n",
    "ax.plot(data[:, 0], data[:, 2], color='dodgerblue', linewidth=2, label=\"Energia kinetyczna\")\n",
    "ax.plot(data[:, 0], data[:, 4], color='lime', linewidth=2, label=\"Energia potencjalna LJ wewnątrz obiektów\")\n",
    "ax.plot(data[:, 0], data[:, 5], color='orange', linewidth=3, label=\"Energia potencjalna odpychająca LJ pomiędzy obiektami a podłożem\")\n",
    "ax.plot(data[:, 0], data[:, 6], color='red', linewidth=3, label=\"Energia potencjalna odpychająca LJ pomiędzy obiektami\")\n",
    "ax.plot(data[:, 0], data[:, 4] + data[:, 3] + data[:, 2] + data[:, 5] + data[:, 6], color='black', linewidth=3, label=\"Enegria całkowita\")\n",
    "\n",
    "font_size = 20\n",
    "# ax.set_title(\"Zmiana enegii w czasie dla układu złożonego z dwóch obiektów i podłoża\", fontsize=font_size)\n",
    "ax.set_ylabel(\"Energia [ J ]\", fontsize=font_size)\n",
    "ax.set_xlabel(\"Czas [ s ]\", fontsize=font_size)\n",
    "ax.legend(bbox_to_anchor = [0.34, 0.93], fontsize=font_size-5)\n",
    "\n",
    "plt.show()"
   ]
  },
  {
   "cell_type": "code",
   "execution_count": null,
   "metadata": {},
   "outputs": [],
   "source": [
    "plt.rcParams['figure.figsize'] = [16, 10]\n",
    "plt.rcParams['font.size'] = '16'\n",
    "\n",
    "data = log_data[0:300]\n",
    "\n",
    "fig = plt.figure()\n",
    "ax = fig.add_subplot(111)\n",
    "ax.plot(data[:, 0], data[:, 3], color='magenta', linewidth=4, label=\"Energia potencjalna grawitacji\")\n",
    "ax.plot(data[:, 0], data[:, 2], color='dodgerblue', linewidth=2, label=\"Energia kinetyczna\")\n",
    "ax.plot(data[:, 0], data[:, 4], color='lime', linewidth=2, label=\"Energia potencjalna LJ wewnątrz obiektów\")\n",
    "ax.plot(data[:, 0], data[:, 5], color='orange', linewidth=3, label=\"Energia potencjalna odpychająca LJ pomiędzy obiektami a podłożem\")\n",
    "ax.plot(data[:, 0], data[:, 6], color='red', linewidth=3, label=\"Energia potencjalna odpychająca LJ pomiędzy obiektami\")\n",
    "ax.plot(data[:, 0], data[:, 4] + data[:, 3] + data[:, 2] + data[:, 5] + data[:, 6], color='black', linewidth=3, label=\"Energia całkowita\")\n",
    "\n",
    "font_size = 20\n",
    "# ax.set_title(\"Zmiana enegii w czasie dla układu złożonego z dwóch obiektów i podłoża\", fontsize=font_size)\n",
    "ax.set_ylabel(\"Energia [ J ]\", fontsize=font_size)\n",
    "ax.set_xlabel(\"Czas [ s ]\", fontsize=font_size)\n",
    "ax.legend(loc=\"lower left\", fontsize=font_size-5)\n",
    "\n",
    "plt.show()"
   ]
  },
  {
   "cell_type": "code",
   "execution_count": null,
   "metadata": {},
   "outputs": [],
   "source": [
    "plt.rcParams['figure.figsize'] = [16, 10]\n",
    "plt.rcParams['font.size'] = '16'\n",
    "\n",
    "data = log_data[0:1380]\n",
    "\n",
    "fig = plt.figure()\n",
    "ax = fig.add_subplot(111)\n",
    "ax.plot(data[:, 0], data[:, 3], color='magenta', linewidth=4, label=\"Energia potencjalna grawitacji\")\n",
    "ax.plot(data[:, 0], data[:, 2], color='dodgerblue', linewidth=2, label=\"Energia kinetyczna\")\n",
    "ax.plot(data[:, 0], data[:, 4], color='lime', linewidth=2, label=\"Energia potencjalna LJ wewnątrz obiektów\")\n",
    "ax.plot(data[:, 0], data[:, 5], color='orange', linewidth=3, label=\"Energia potencjalna odpychająca LJ pomiędzy obiektami a podłożem\")\n",
    "ax.plot(data[:, 0], data[:, 6], color='red', linewidth=3, label=\"Energia potencjalna odpychająca LJ pomiędzy obiektami\")\n",
    "ax.plot(data[:, 0], (data[:, 4] + data[:, 3] + data[:, 2] + data[:, 5] + data[:, 6]), color='black', linewidth=3, label=\"Energia całkowita\")\n",
    "\n",
    "font_size = 20\n",
    "# ax.set_title(\"Zmiana enegii w czasie dla układu złożonego z dwóch obiektów i podłoża\", fontsize=font_size)\n",
    "ax.set_ylabel(\"Energia [ J ]\", fontsize=font_size)\n",
    "ax.set_xlabel(\"Czas [ s ]\", fontsize=font_size)\n",
    "ax.legend(loc=\"lower left\", fontsize=font_size-5)\n",
    "\n",
    "plt.show()"
   ]
  }
 ],
 "metadata": {
  "interpreter": {
   "hash": "ad2bdc8ecc057115af97d19610ffacc2b4e99fae6737bb82f5d7fb13d2f2c186"
  },
  "kernelspec": {
   "display_name": "Python 3.9.7 ('base')",
   "language": "python",
   "name": "python3"
  },
  "language_info": {
   "codemirror_mode": {
    "name": "ipython",
    "version": 3
   },
   "file_extension": ".py",
   "mimetype": "text/x-python",
   "name": "python",
   "nbconvert_exporter": "python",
   "pygments_lexer": "ipython3",
   "version": "3.9.7"
  },
  "orig_nbformat": 4
 },
 "nbformat": 4,
 "nbformat_minor": 2
}
