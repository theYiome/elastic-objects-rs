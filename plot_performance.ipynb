{
 "cells": [
  {
   "cell_type": "code",
   "execution_count": null,
   "metadata": {},
   "outputs": [],
   "source": [
    "import csv\n",
    "import numpy as np\n",
    "import pandas\n",
    "import matplotlib.pyplot as plt\n",
    "\n",
    "log_data = []\n",
    "\n",
    "with open(f\"data/performance_test.csv\") as csvfile:\n",
    "    spamreader = csv.reader(csvfile, delimiter=',')\n",
    "    for row in spamreader:\n",
    "        log_data.append(row)"
   ]
  },
  {
   "cell_type": "code",
   "execution_count": null,
   "metadata": {},
   "outputs": [],
   "source": [
    "log_data = np.array(log_data, dtype=np.float32)\n",
    "\n",
    "print(pandas.DataFrame(log_data))"
   ]
  },
  {
   "cell_type": "code",
   "execution_count": null,
   "metadata": {},
   "outputs": [],
   "source": [
    "log_data_2 = []\n",
    "\n",
    "with open(f\"data/performance_test_optimized.csv\") as csvfile:\n",
    "    spamreader = csv.reader(csvfile, delimiter=',')\n",
    "    for row in spamreader:\n",
    "        log_data_2.append(row)"
   ]
  },
  {
   "cell_type": "code",
   "execution_count": null,
   "metadata": {},
   "outputs": [],
   "source": [
    "log_data_2 = np.array(log_data_2, dtype=np.float32)\n",
    "\n",
    "print(pandas.DataFrame(log_data_2))"
   ]
  },
  {
   "cell_type": "code",
   "execution_count": null,
   "metadata": {},
   "outputs": [],
   "source": [
    "print(pandas.DataFrame(log_data_2[:, 1] / log_data[:, 1], log_data_2[:, 0].astype('int')))"
   ]
  },
  {
   "cell_type": "code",
   "execution_count": null,
   "metadata": {},
   "outputs": [],
   "source": [
    "plt.rcParams['figure.figsize'] = [16, 10]\n",
    "plt.rcParams['font.size'] = '14'\n",
    "\n",
    "data = log_data\n",
    "data2 = log_data_2\n",
    "\n",
    "x1 = data[:, 0]\n",
    "y1 = data[:, 1]\n",
    "y2 = data2[:, 1]\n",
    "\n",
    "fig = plt.figure()\n",
    "ax = fig.add_subplot(111)\n",
    "\n",
    "ax.plot(x1, y1, linestyle='-', marker='s', color='blue', linewidth=4, label=\"Kolizje wszytkie węzły ze wszytkimi (a)\")\n",
    "ax.plot(x1, y2, linestyle='-', marker='s', color='orange', linewidth=4, label=\"Kolizje brzegowe węzły z brzegowe (b)\")\n",
    "\n",
    "font_size = 20\n",
    "# ax.set_title(\"Wydajność w zależności od długości boku dwóch obiektów\", fontsize=font_size)\n",
    "ax.set_ylabel(\"Iteracje na sekundę\", fontsize=font_size)\n",
    "ax.set_xlabel(\"Ilość węzłów w boku obiektu\", fontsize=font_size)\n",
    "ax.legend(loc=\"upper right\", fontsize=font_size)\n",
    "ax.set_yscale(\"log\")\n",
    "\n",
    "for i, j in zip(x1, y1):\n",
    "    i = int(i)\n",
    "    j = int(j)\n",
    "    if i > 3:\n",
    "        ax.annotate(str((i,j)), xy=(i,j), xytext=(10,10), textcoords='offset points')\n",
    "\n",
    "for i, j in zip(x1, y2):\n",
    "    i = int(i)\n",
    "    j = int(j)\n",
    "    ax.annotate(str((i,j)), xy=(i,j), xytext=(10,10), textcoords='offset points')\n",
    "\n",
    "plt.show()"
   ]
  },
  {
   "cell_type": "code",
   "execution_count": null,
   "metadata": {},
   "outputs": [],
   "source": [
    "plt.rcParams['figure.figsize'] = [16, 10]\n",
    "\n",
    "data = log_data[0:-1]\n",
    "x = data[:, 0] * data[:, 0] * 2\n",
    "y = data[:, 1]\n",
    "\n",
    "fig = plt.figure()\n",
    "ax = fig.add_subplot(111)\n",
    "\n",
    "ax.plot(x, y, linestyle='-', marker='s', color='blue', linewidth=4, label=\"Ilość węzłów a wydajność\")\n",
    "\n",
    "font_size = 16\n",
    "ax.set_title(\"Wydajność w zależności od ilości węzłów\", fontsize=font_size)\n",
    "ax.set_ylabel(\"Iteracje na sekundę\", fontsize=font_size)\n",
    "ax.set_xlabel(\"Ilość węzłów\", fontsize=font_size)\n",
    "ax.legend(loc=\"upper right\")\n",
    "ax.set_yscale(\"log\")\n",
    "\n",
    "for i, j in zip(x, y):\n",
    "    i = int(i)\n",
    "    j = int(j)\n",
    "    ax.annotate(str((i,j)), xy=(i,j), xytext=(10,10), textcoords='offset points')\n",
    "\n",
    "plt.show()"
   ]
  },
  {
   "cell_type": "code",
   "execution_count": null,
   "metadata": {},
   "outputs": [],
   "source": []
  }
 ],
 "metadata": {
  "interpreter": {
   "hash": "b3ba2566441a7c06988d0923437866b63cedc61552a5af99d1f4fb67d367b25f"
  },
  "kernelspec": {
   "display_name": "Python 3.9.7 64-bit ('base': conda)",
   "language": "python",
   "name": "python3"
  },
  "language_info": {
   "codemirror_mode": {
    "name": "ipython",
    "version": 3
   },
   "file_extension": ".py",
   "mimetype": "text/x-python",
   "name": "python",
   "nbconvert_exporter": "python",
   "pygments_lexer": "ipython3",
   "version": "3.9.7"
  },
  "orig_nbformat": 4
 },
 "nbformat": 4,
 "nbformat_minor": 2
}
