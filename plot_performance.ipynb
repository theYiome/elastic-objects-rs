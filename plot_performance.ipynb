{
 "cells": [
  {
   "cell_type": "code",
   "execution_count": null,
   "metadata": {},
   "outputs": [],
   "source": [
    "import csv\n",
    "import numpy as np\n",
    "import pandas\n",
    "import matplotlib.pyplot as plt\n",
    "\n",
    "log_data = []\n",
    "\n",
    "with open(f\"data/performance_test.csv\") as csvfile:\n",
    "    spamreader = csv.reader(csvfile, delimiter=',')\n",
    "    for row in spamreader:\n",
    "        log_data.append(row)"
   ]
  },
  {
   "cell_type": "code",
   "execution_count": null,
   "metadata": {},
   "outputs": [],
   "source": [
    "log_data = np.array(log_data, dtype=np.float32)\n",
    "\n",
    "pandas.DataFrame(log_data)"
   ]
  },
  {
   "cell_type": "code",
   "execution_count": null,
   "metadata": {},
   "outputs": [],
   "source": [
    "plt.rcParams['figure.figsize'] = [16, 10]\n",
    "\n",
    "data = log_data[0:-1]\n",
    "x = data[:, 0]\n",
    "y = data[:, 1]\n",
    "\n",
    "fig = plt.figure()\n",
    "ax = fig.add_subplot(111)\n",
    "\n",
    "ax.plot(x, y, linestyle='-', marker='s', color='blue', linewidth=4, label=\"Wielkość obiektów a wydajność\")\n",
    "\n",
    "font_size = 16\n",
    "ax.set_title(\"Wydajność w zależnośći od długości boku dwóch obiektów\", fontsize=font_size)\n",
    "ax.set_ylabel(\"Iteracje na sekundę\", fontsize=font_size)\n",
    "ax.set_xlabel(\"Ilość węzłów w boku obiektu\", fontsize=font_size)\n",
    "ax.legend(loc=\"upper right\")\n",
    "ax.set_yscale(\"log\")\n",
    "\n",
    "for i, j in zip(x, y):\n",
    "    i = int(i)\n",
    "    j = int(j)\n",
    "    ax.annotate(str((i,j)), xy=(i,j), xytext=(10,10), textcoords='offset points')\n",
    "\n",
    "plt.show()"
   ]
  },
  {
   "cell_type": "code",
   "execution_count": null,
   "metadata": {},
   "outputs": [],
   "source": [
    "plt.rcParams['figure.figsize'] = [16, 10]\n",
    "\n",
    "data = log_data[0:-1]\n",
    "x = data[:, 0] * data[:, 0] * 2\n",
    "y = data[:, 1]\n",
    "\n",
    "fig = plt.figure()\n",
    "ax = fig.add_subplot(111)\n",
    "\n",
    "ax.plot(x, y, linestyle='-', marker='s', color='blue', linewidth=4, label=\"Wielkość obiektów a wydajność\")\n",
    "\n",
    "font_size = 16\n",
    "ax.set_title(\"Wydajność w zależnośći od długości boku dwóch obiektów\", fontsize=font_size)\n",
    "ax.set_ylabel(\"Iteracje na sekundę\", fontsize=font_size)\n",
    "ax.set_xlabel(\"Ilość węzłów w boku obiektu\", fontsize=font_size)\n",
    "ax.legend(loc=\"upper right\")\n",
    "ax.set_yscale(\"log\")\n",
    "\n",
    "for i, j in zip(x, y):\n",
    "    i = int(i)\n",
    "    j = int(j)\n",
    "    ax.annotate(str((i,j)), xy=(i,j), xytext=(10,10), textcoords='offset points')\n",
    "\n",
    "plt.show()"
   ]
  }
 ],
 "metadata": {
  "interpreter": {
   "hash": "b3ba2566441a7c06988d0923437866b63cedc61552a5af99d1f4fb67d367b25f"
  },
  "kernelspec": {
   "display_name": "Python 3.9.7 64-bit ('base': conda)",
   "language": "python",
   "name": "python3"
  },
  "language_info": {
   "codemirror_mode": {
    "name": "ipython",
    "version": 3
   },
   "file_extension": ".py",
   "mimetype": "text/x-python",
   "name": "python",
   "nbconvert_exporter": "python",
   "pygments_lexer": "ipython3",
   "version": "3.9.7"
  },
  "orig_nbformat": 4
 },
 "nbformat": 4,
 "nbformat_minor": 2
}
