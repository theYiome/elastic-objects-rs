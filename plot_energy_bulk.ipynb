{
 "cells": [
  {
   "cell_type": "code",
   "execution_count": null,
   "metadata": {},
   "outputs": [],
   "source": [
    "import csv\n",
    "import numpy as np\n",
    "import pandas\n",
    "import matplotlib.pyplot as plt\n",
    "\n",
    "log_data = []\n",
    "object_size = 3\n",
    "\n",
    "with open(f\"data/{object_size}x{object_size}_energy.csv\") as csvfile:\n",
    "    spamreader = csv.reader(csvfile, delimiter=',')\n",
    "    for row in spamreader:\n",
    "        log_data.append(row)"
   ]
  },
  {
   "cell_type": "code",
   "execution_count": null,
   "metadata": {},
   "outputs": [],
   "source": [
    "log_data = np.array(log_data, dtype=np.float32)\n",
    "log_data[:, 4] -= log_data[0, 4]\n",
    "\n",
    "pandas.DataFrame(log_data)"
   ]
  },
  {
   "cell_type": "code",
   "execution_count": null,
   "metadata": {},
   "outputs": [],
   "source": [
    "plt.rcParams['figure.figsize'] = [16, 10]\n",
    "\n",
    "data = log_data[0:-1]\n",
    "\n",
    "fig = plt.figure()\n",
    "ax = fig.add_subplot(111)\n",
    "ax.plot(data[:, 0], data[:, 2], color='yellow', linewidth=4, label=\"Energia potencjalna grawitacji\")\n",
    "ax.plot(data[:, 0], data[:, 1], color='lightblue', linewidth=2, label=\"Energia kinetyczna\")\n",
    "ax.plot(data[:, 0], data[:, 3], color='lightgreen', linewidth=2, label=\"Energia potencjalna LJ wewnątrz obiektów\")\n",
    "ax.plot(data[:, 0], data[:, 4], color='orange', linewidth=4, label=\"Energia potencjalna odpychająca LJ pomiędzy obiektami a podłożem\")\n",
    "ax.plot(data[:, 0], data[:, 5], color='red', linewidth=2, label=\"Energia potencjalna odpychająca LJ pomiędzy obiektami\")\n",
    "ax.plot(data[:, 0], data[:, 3] + data[:, 2] + data[:, 1] + data[:, 4] + data[:, 5], color='black', linewidth=3, label=\"Enegria całkowita\")\n",
    "\n",
    "font_size = 16\n",
    "ax.set_title(\"Zmiana energii w czasie dla układu złożonego z dwóch obiektów i podłoża\", fontsize=font_size)\n",
    "ax.set_ylabel(\"Energia [ J ]\", fontsize=font_size)\n",
    "ax.set_xlabel(\"Czas [ s ]\", fontsize=font_size)\n",
    "ax.legend(loc=\"upper right\")\n",
    "\n",
    "plt.show()"
   ]
  }
 ],
 "metadata": {
  "kernelspec": {
   "display_name": "Python 3.9.7 ('base')",
   "language": "python",
   "name": "python3"
  },
  "language_info": {
   "codemirror_mode": {
    "name": "ipython",
    "version": 3
   },
   "file_extension": ".py",
   "mimetype": "text/x-python",
   "name": "python",
   "nbconvert_exporter": "python",
   "pygments_lexer": "ipython3",
   "version": "3.9.7"
  },
  "orig_nbformat": 4,
  "vscode": {
   "interpreter": {
    "hash": "ad2bdc8ecc057115af97d19610ffacc2b4e99fae6737bb82f5d7fb13d2f2c186"
   }
  }
 },
 "nbformat": 4,
 "nbformat_minor": 2
}
