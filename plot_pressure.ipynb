{
 "cells": [
  {
   "cell_type": "code",
   "execution_count": null,
   "metadata": {},
   "outputs": [],
   "source": [
    "import csv\n",
    "import numpy as np\n",
    "import pandas\n",
    "import matplotlib.pyplot as plt\n",
    "\n",
    "log_data = []\n",
    "\n",
    "with open(f\"data/pressure_one.csv\") as csvfile:\n",
    "    spamreader = csv.reader(csvfile, delimiter=',')\n",
    "    for row in spamreader:\n",
    "        log_data.append(row)"
   ]
  },
  {
   "cell_type": "code",
   "execution_count": null,
   "metadata": {},
   "outputs": [],
   "source": [
    "log_data = np.array(log_data, dtype=np.float32)\n",
    "\n",
    "pandas.DataFrame(log_data)"
   ]
  },
  {
   "cell_type": "code",
   "execution_count": null,
   "metadata": {},
   "outputs": [],
   "source": [
    "font_size = 18\n",
    "plt.rcParams['font.size'] = '14'"
   ]
  },
  {
   "cell_type": "code",
   "execution_count": null,
   "metadata": {},
   "outputs": [],
   "source": [
    "plt.rcParams['figure.figsize'] = [16, 10]\n",
    "\n",
    "data = log_data[0:400]\n",
    "\n",
    "fig = plt.figure()\n",
    "ax = fig.add_subplot(111)\n",
    "ax.plot(data[:, 0], data[:, 7], linewidth=3, label=\"Maksymalne ciśnienie\")\n",
    "\n",
    "ax.set_ylabel(\"Ciśnienie [ Pa ]\", fontsize=font_size)\n",
    "ax.set_xlabel(\"Czas [ s ]\", fontsize=font_size)\n",
    "\n",
    "plt.show()"
   ]
  },
  {
   "cell_type": "code",
   "execution_count": null,
   "metadata": {},
   "outputs": [],
   "source": [
    "plt.rcParams['figure.figsize'] = [16, 10]\n",
    "\n",
    "data = log_data[0:2400]\n",
    "\n",
    "fig = plt.figure()\n",
    "ax = fig.add_subplot(111)\n",
    "ax.plot(data[:, 0], data[:, 7], linewidth=3, label=\"Maksymalne ciśnienie\")\n",
    "\n",
    "ax.set_ylabel(\"Ciśnienie [ Pa ]\", fontsize=font_size)\n",
    "ax.set_xlabel(\"Czas [ s ]\", fontsize=font_size)\n",
    "\n",
    "plt.show()"
   ]
  },
  {
   "cell_type": "code",
   "execution_count": null,
   "metadata": {},
   "outputs": [],
   "source": [
    "log_data = []\n",
    "\n",
    "with open(f\"data/pressure_two.csv\") as csvfile:\n",
    "    spamreader = csv.reader(csvfile, delimiter=',')\n",
    "    for row in spamreader:\n",
    "        log_data.append(row)"
   ]
  },
  {
   "cell_type": "code",
   "execution_count": null,
   "metadata": {},
   "outputs": [],
   "source": [
    "log_data = np.array(log_data, dtype=np.float32)\n",
    "\n",
    "pandas.DataFrame(log_data)"
   ]
  },
  {
   "cell_type": "code",
   "execution_count": null,
   "metadata": {},
   "outputs": [],
   "source": [
    "plt.rcParams['figure.figsize'] = [16, 10]\n",
    "\n",
    "data = log_data[0:330]\n",
    "\n",
    "fig = plt.figure()\n",
    "ax = fig.add_subplot(111)\n",
    "ax.plot(data[:, 0], data[:, 7], linewidth=3, label=\"Maksymalne ciśnienie\")\n",
    "\n",
    "ax.set_ylabel(\"Ciśnienie [ Pa ]\", fontsize=font_size)\n",
    "ax.set_xlabel(\"Czas [ s ]\", fontsize=font_size)\n",
    "\n",
    "plt.show()"
   ]
  },
  {
   "cell_type": "code",
   "execution_count": null,
   "metadata": {},
   "outputs": [],
   "source": [
    "plt.rcParams['figure.figsize'] = [16, 10]\n",
    "\n",
    "data = log_data[0:1450]\n",
    "\n",
    "fig = plt.figure()\n",
    "ax = fig.add_subplot(111)\n",
    "ax.plot(data[:, 0], data[:, 7], linewidth=3, label=\"Maksymalne ciśnienie\")\n",
    "\n",
    "ax.set_ylabel(\"Ciśnienie [ Pa ]\", fontsize=font_size)\n",
    "ax.set_xlabel(\"Czas [ s ]\", fontsize=font_size)\n",
    "\n",
    "plt.show()"
   ]
  }
 ],
 "metadata": {
  "kernelspec": {
   "display_name": "Python 3.9.7 ('base')",
   "language": "python",
   "name": "python3"
  },
  "language_info": {
   "codemirror_mode": {
    "name": "ipython",
    "version": 3
   },
   "file_extension": ".py",
   "mimetype": "text/x-python",
   "name": "python",
   "nbconvert_exporter": "python",
   "pygments_lexer": "ipython3",
   "version": "3.9.7"
  },
  "orig_nbformat": 4,
  "vscode": {
   "interpreter": {
    "hash": "ad2bdc8ecc057115af97d19610ffacc2b4e99fae6737bb82f5d7fb13d2f2c186"
   }
  }
 },
 "nbformat": 4,
 "nbformat_minor": 2
}
